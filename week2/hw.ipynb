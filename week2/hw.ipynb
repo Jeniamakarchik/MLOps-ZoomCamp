{
 "cells": [
  {
   "cell_type": "markdown",
   "metadata": {},
   "source": [
    "# Homework2. MLflow"
   ]
  },
  {
   "cell_type": "code",
   "execution_count": 1,
   "metadata": {},
   "outputs": [
    {
     "name": "stdout",
     "output_type": "stream",
     "text": [
      "mlflow, version 1.26.0\r\n"
     ]
    }
   ],
   "source": [
    "!mlflow --version"
   ]
  },
  {
   "cell_type": "markdown",
   "metadata": {},
   "source": [
    "## Read and process data"
   ]
  },
  {
   "cell_type": "code",
   "execution_count": 2,
   "metadata": {},
   "outputs": [
    {
     "name": "stdout",
     "output_type": "stream",
     "text": [
      "--2022-05-28 15:40:20--  https://nyc-tlc.s3.amazonaws.com/trip+data/green_tripdata_2021-01.parquet\n",
      "Resolving nyc-tlc.s3.amazonaws.com (nyc-tlc.s3.amazonaws.com)... 52.216.38.9\n",
      "Connecting to nyc-tlc.s3.amazonaws.com (nyc-tlc.s3.amazonaws.com)|52.216.38.9|:443... connected.\n",
      "HTTP request sent, awaiting response... 200 OK\n",
      "Length: 1333519 (1.3M) [binary/octet-stream]\n",
      "Saving to: ‘data/green_tripdata_2021-01.parquet’\n",
      "\n",
      "green_tripdata_2021 100%[===================>]   1.27M  --.-KB/s    in 0.1s    \n",
      "\n",
      "2022-05-28 15:40:20 (11.5 MB/s) - ‘data/green_tripdata_2021-01.parquet’ saved [1333519/1333519]\n",
      "\n",
      "--2022-05-28 15:40:21--  https://nyc-tlc.s3.amazonaws.com/trip+data/green_tripdata_2021-02.parquet\n",
      "Resolving nyc-tlc.s3.amazonaws.com (nyc-tlc.s3.amazonaws.com)... 52.216.38.9\n",
      "Connecting to nyc-tlc.s3.amazonaws.com (nyc-tlc.s3.amazonaws.com)|52.216.38.9|:443... connected.\n",
      "HTTP request sent, awaiting response... 200 OK\n",
      "Length: 1145679 (1.1M) [binary/octet-stream]\n",
      "Saving to: ‘data/green_tripdata_2021-02.parquet’\n",
      "\n",
      "green_tripdata_2021 100%[===================>]   1.09M  --.-KB/s    in 0.09s   \n",
      "\n",
      "2022-05-28 15:40:21 (11.5 MB/s) - ‘data/green_tripdata_2021-02.parquet’ saved [1145679/1145679]\n",
      "\n",
      "--2022-05-28 15:40:21--  https://nyc-tlc.s3.amazonaws.com/trip+data/green_tripdata_2021-03.parquet\n",
      "Resolving nyc-tlc.s3.amazonaws.com (nyc-tlc.s3.amazonaws.com)... 52.216.38.9\n",
      "Connecting to nyc-tlc.s3.amazonaws.com (nyc-tlc.s3.amazonaws.com)|52.216.38.9|:443... connected.\n",
      "HTTP request sent, awaiting response... 200 OK\n",
      "Length: 1474538 (1.4M) [binary/octet-stream]\n",
      "Saving to: ‘data/green_tripdata_2021-03.parquet’\n",
      "\n",
      "green_tripdata_2021 100%[===================>]   1.41M  --.-KB/s    in 0.1s    \n",
      "\n",
      "2022-05-28 15:40:22 (12.6 MB/s) - ‘data/green_tripdata_2021-03.parquet’ saved [1474538/1474538]\n",
      "\n"
     ]
    }
   ],
   "source": [
    "!mkdir data\n",
    "!wget https://nyc-tlc.s3.amazonaws.com/trip+data/green_tripdata_2021-01.parquet -P data/\n",
    "!wget https://nyc-tlc.s3.amazonaws.com/trip+data/green_tripdata_2021-02.parquet -P data/\n",
    "!wget https://nyc-tlc.s3.amazonaws.com/trip+data/green_tripdata_2021-03.parquet -P data/"
   ]
  },
  {
   "cell_type": "code",
   "execution_count": 3,
   "metadata": {},
   "outputs": [],
   "source": [
    "!mkdir processed_data"
   ]
  },
  {
   "cell_type": "code",
   "execution_count": 4,
   "metadata": {},
   "outputs": [
    {
     "name": "stdout",
     "output_type": "stream",
     "text": [
      "green_tripdata_2021-01.parquet\tgreen_tripdata_2021-03.parquet\r\n",
      "green_tripdata_2021-02.parquet\r\n"
     ]
    }
   ],
   "source": [
    "!ls data"
   ]
  },
  {
   "cell_type": "markdown",
   "metadata": {},
   "source": [
    "## Run scripts from homework folder"
   ]
  },
  {
   "cell_type": "code",
   "execution_count": 5,
   "metadata": {},
   "outputs": [
    {
     "name": "stdout",
     "output_type": "stream",
     "text": [
      "preprocess_data.py\r\n",
      "/home/mlops_zoomcamp/mlops-zoomcamp/week2\r\n",
      "['green_tripdata_2021-01.parquet', 'green_tripdata_2021-02.parquet', 'green_tripdata_2021-03.parquet']\r\n"
     ]
    }
   ],
   "source": [
    "!python homework/preprocess_data.py --raw_data_path data/ --dest_path processed_data/"
   ]
  },
  {
   "cell_type": "code",
   "execution_count": 6,
   "metadata": {},
   "outputs": [
    {
     "name": "stdout",
     "output_type": "stream",
     "text": [
      "dv.pkl\ttest.pkl  train.pkl  valid.pkl\r\n"
     ]
    }
   ],
   "source": [
    "!ls processed_data/"
   ]
  },
  {
   "cell_type": "code",
   "execution_count": 7,
   "metadata": {},
   "outputs": [
    {
     "name": "stdout",
     "output_type": "stream",
     "text": [
      "train.py\n",
      "2022/05/28 15:40:29 INFO mlflow.tracking.fluent: Autologging successfully enabled for sklearn.\n",
      "2022/05/28 15:40:48 WARNING mlflow.utils.autologging_utils: MLflow autologging encountered a warning: \"/home/mlops_zoomcamp/anaconda3/lib/python3.9/site-packages/_distutils_hack/__init__.py:30: UserWarning: Setuptools is replacing distutils.\"\n"
     ]
    }
   ],
   "source": [
    "!python homework/train.py --data_path processed_data/"
   ]
  },
  {
   "cell_type": "code",
   "execution_count": 8,
   "metadata": {},
   "outputs": [
    {
     "name": "stdout",
     "output_type": "stream",
     "text": [
      "hpo.py\n",
      "100%|█████████| 50/50 [06:46<00:00,  8.13s/trial, best loss: 6.6284257482044735]\n"
     ]
    }
   ],
   "source": [
    "!python homework/hpo.py --data_path processed_data/"
   ]
  },
  {
   "cell_type": "code",
   "execution_count": 9,
   "metadata": {},
   "outputs": [
    {
     "name": "stdout",
     "output_type": "stream",
     "text": [
      "hpo.py\tpreprocess_data.py  register_model.py  train.py\r\n"
     ]
    }
   ],
   "source": [
    "!ls homework"
   ]
  },
  {
   "cell_type": "code",
   "execution_count": 10,
   "metadata": {},
   "outputs": [
    {
     "name": "stdout",
     "output_type": "stream",
     "text": [
      "2022/05/28 15:47:40 INFO mlflow.tracking.fluent: Experiment with name 'random-forest-best-models' does not exist. Creating a new experiment.\n",
      "register_model.py\n",
      "Amount of runs: 5\n",
      "2022/05/28 15:47:51 WARNING mlflow.utils.autologging_utils: MLflow autologging encountered a warning: \"/home/mlops_zoomcamp/anaconda3/lib/python3.9/site-packages/_distutils_hack/__init__.py:30: UserWarning: Setuptools is replacing distutils.\"\n",
      "Best run ID: runs:/8ec9aa534a06421ba90e7bc617ebbd44/models\n",
      "Successfully registered model 'RandomForestRegressionModel'.\n",
      "2022/05/28 15:48:20 INFO mlflow.tracking._model_registry.client: Waiting up to 300 seconds for model version to finish creation.                     Model name: RandomForestRegressionModel, version 1\n",
      "Created version '1' of model 'RandomForestRegressionModel'.\n"
     ]
    }
   ],
   "source": [
    "!python homework/register_model.py --data_path processed_data/"
   ]
  }
 ],
 "metadata": {
  "kernelspec": {
   "display_name": "Python 3 (ipykernel)",
   "language": "python",
   "name": "python3"
  },
  "language_info": {
   "codemirror_mode": {
    "name": "ipython",
    "version": 3
   },
   "file_extension": ".py",
   "mimetype": "text/x-python",
   "name": "python",
   "nbconvert_exporter": "python",
   "pygments_lexer": "ipython3",
   "version": "3.9.12"
  }
 },
 "nbformat": 4,
 "nbformat_minor": 2
}
